{
 "cells": [
  {
   "cell_type": "code",
   "execution_count": 2,
   "id": "46a5b777",
   "metadata": {},
   "outputs": [
    {
     "data": {
      "text/plain": [
       "(16598, 11)"
      ]
     },
     "execution_count": 2,
     "metadata": {},
     "output_type": "execute_result"
    }
   ],
   "source": [
    "#pandas is labrary for dataset import:\n",
    "import pandas as pd \n",
    "# here the csv files direction declare (csv file format in dataset spacification)\n",
    "# its reture data object frame jst like excel sheet. \n",
    "df = pd.read_csv('vgsales.csv')\n",
    "# inspact the data set - jst print df or data set\n",
    "# code part: df\n",
    "# df.shape -> indicate the size of dataset. Record and Column base:\n",
    "# code part: df.shape\n",
    "# given basic statistic information like count, mean, std, min, ..\n",
    "# code part: df.describe()\n",
    "# df.value -> data represetation in Array\n",
    "# code part: df.values"
   ]
  },
  {
   "cell_type": "code",
   "execution_count": 4,
   "id": "4df0ca08",
   "metadata": {},
   "outputs": [
    {
     "data": {
      "text/plain": [
       "array([[1, 'Wii Sports', 'Wii', ..., 3.77, 8.46, 82.74],\n",
       "       [2, 'Super Mario Bros.', 'NES', ..., 6.81, 0.77, 40.24],\n",
       "       [3, 'Mario Kart Wii', 'Wii', ..., 3.79, 3.31, 35.82],\n",
       "       ...,\n",
       "       [16598, 'SCORE International Baja 1000: The Official Game', 'PS2',\n",
       "        ..., 0.0, 0.0, 0.01],\n",
       "       [16599, 'Know How 2', 'DS', ..., 0.0, 0.0, 0.01],\n",
       "       [16600, 'Spirits & Spells', 'GBA', ..., 0.0, 0.0, 0.01]],\n",
       "      dtype=object)"
      ]
     },
     "execution_count": 4,
     "metadata": {},
     "output_type": "execute_result"
    }
   ],
   "source": [
    "df.values"
   ]
  },
  {
   "cell_type": "code",
   "execution_count": null,
   "id": "88608e86",
   "metadata": {},
   "outputs": [],
   "source": []
  }
 ],
 "metadata": {
  "kernelspec": {
   "display_name": "Python 3 (ipykernel)",
   "language": "python",
   "name": "python3"
  },
  "language_info": {
   "codemirror_mode": {
    "name": "ipython",
    "version": 3
   },
   "file_extension": ".py",
   "mimetype": "text/x-python",
   "name": "python",
   "nbconvert_exporter": "python",
   "pygments_lexer": "ipython3",
   "version": "3.10.9"
  }
 },
 "nbformat": 4,
 "nbformat_minor": 5
}
